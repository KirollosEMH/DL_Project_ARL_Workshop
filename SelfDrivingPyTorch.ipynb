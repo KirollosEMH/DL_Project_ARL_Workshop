{
 "cells": [
  {
   "cell_type": "code",
   "execution_count": 1,
   "metadata": {},
   "outputs": [],
   "source": [
    "import pandas as pd\n",
    "import numpy as np\n",
    "import matplotlib.pyplot as plt\n",
    "import torch\n",
    "import torchvision.transforms as transforms\n",
    "from torch.utils.data import Dataset, DataLoader\n",
    "from sklearn.model_selection import train_test_split\n",
    "import torch.nn as nn\n",
    "import torch.optim as optim\n",
    "import PIL.Image as Image"
   ]
  },
  {
   "cell_type": "code",
   "execution_count": 2,
   "metadata": {},
   "outputs": [],
   "source": [
    "from PIL import Image\n",
    "\n",
    "class CustomDataset(Dataset):\n",
    "    def __init__(self, csv_file, transform=None):\n",
    "        self.data = pd.read_csv(csv_file)\n",
    "        self.transform = transform\n",
    "\n",
    "    def __len__(self):\n",
    "        return len(self.data)\n",
    "\n",
    "    def __getitem__(self, idx):\n",
    "        img_path = self.data.iloc[idx, 0]\n",
    "        image = Image.open(img_path)\n",
    "        steering = float(self.data.iloc[idx, 3])\n",
    "        throttle = float(self.data.iloc[idx, 4])\n",
    "\n",
    "        if self.transform:\n",
    "            image = self.transform(image)\n",
    "\n",
    "        return image, (steering, throttle)\n"
   ]
  },
  {
   "cell_type": "code",
   "execution_count": 3,
   "metadata": {},
   "outputs": [],
   "source": [
    "transform = transforms.Compose([\n",
    "    transforms.ToTensor(),\n",
    "    transforms.Normalize(mean=[0.5, 0.5, 0.5], std=[0.5, 0.5, 0.5])  # Example normalization\n",
    "])\n"
   ]
  },
  {
   "cell_type": "code",
   "execution_count": 4,
   "metadata": {},
   "outputs": [],
   "source": [
    "dataset = CustomDataset('driving_log.csv', transform=transform)"
   ]
  },
  {
   "cell_type": "code",
   "execution_count": 5,
   "metadata": {},
   "outputs": [],
   "source": [
    "train_size = int(0.8 * len(dataset))\n",
    "valid_size = len(dataset) - train_size\n",
    "train_dataset, valid_dataset = torch.utils.data.random_split(dataset, [train_size, valid_size])\n"
   ]
  },
  {
   "cell_type": "code",
   "execution_count": 6,
   "metadata": {},
   "outputs": [],
   "source": [
    "batch_size = 32\n",
    "train_loader = DataLoader(train_dataset, batch_size=batch_size, shuffle=True)\n",
    "valid_loader = DataLoader(valid_dataset, batch_size=batch_size, shuffle=False)"
   ]
  },
  {
   "cell_type": "code",
   "execution_count": 7,
   "metadata": {},
   "outputs": [],
   "source": [
    "class DLModel(nn.Module):\n",
    "    def __init__(self):\n",
    "        super(DLModel, self).__init__()\n",
    "        self.conv1 = nn.Conv2d(3, 24, kernel_size=5, stride=2)\n",
    "        self.conv2 = nn.Conv2d(24, 36, kernel_size=5, stride=2)\n",
    "        self.conv3 = nn.Conv2d(36, 48, kernel_size=5, stride=2)\n",
    "        self.conv4 = nn.Conv2d(48, 64, kernel_size=3, stride=1)\n",
    "        self.fc_input_size = self.calculate_fc_input_size()\n",
    "        self.fc1 = nn.Linear(self.fc_input_size, 100)\n",
    "        self.fc2 = nn.Linear(100, 50)\n",
    "        self.fc3 = nn.Linear(50, 10)\n",
    "        self.steering_output = nn.Linear(10, 1)\n",
    "        self.throttle_output = nn.Linear(10, 1)\n",
    "\n",
    "    def forward(self, x):\n",
    "        # Define the forward pass here\n",
    "        x = self.conv1(x)\n",
    "        x = self.conv2(x)\n",
    "        x = self.conv3(x)\n",
    "        x = self.conv4(x)\n",
    "        \n",
    "        \n",
    "        # Flatten the tensor based on the calculated input size\n",
    "        x = x.view(-1, self.fc_input_size)\n",
    "        \n",
    "        x = self.fc1(x)\n",
    "        x = self.fc2(x)\n",
    "        x = self.fc3(x)\n",
    "        \n",
    "        # Concatenate steering and throttle outputs along a new dimension\n",
    "        combined_output = torch.cat((self.steering_output(x), self.throttle_output(x)), dim=1)\n",
    "        \n",
    "        return combined_output\n",
    "\n",
    "    \n",
    "    def calculate_fc_input_size(self):\n",
    "        # Helper function to calculate the input size for the fully connected layers\n",
    "        # This function should be called only once after the convolutional layers have been defined\n",
    "        x = torch.randn(1, 3, 160, 320)  # Create a random input tensor with the same shape as your data\n",
    "        x = self.conv1(x)\n",
    "        x = self.conv2(x)\n",
    "        x = self.conv3(x)\n",
    "        x = self.conv4(x)\n",
    "        \n",
    "        return x.view(1, -1).size(1)  # Return the flattened size\n",
    "\n"
   ]
  },
  {
   "cell_type": "code",
   "execution_count": 8,
   "metadata": {},
   "outputs": [],
   "source": [
    "model = DLModel()"
   ]
  },
  {
   "cell_type": "code",
   "execution_count": 9,
   "metadata": {},
   "outputs": [],
   "source": [
    "criterion_steer = nn.MSELoss()\n",
    "criterion_throttle = nn.MSELoss()"
   ]
  },
  {
   "cell_type": "code",
   "execution_count": 10,
   "metadata": {},
   "outputs": [],
   "source": [
    "optimizer = optim.Adam(model.parameters(), lr=0.0001)"
   ]
  },
  {
   "cell_type": "code",
   "execution_count": 11,
   "metadata": {},
   "outputs": [
    {
     "name": "stdout",
     "output_type": "stream",
     "text": [
      "Epoch 1/10, Loss: 0.2550914931982275\n",
      "Epoch 2/10, Loss: 0.020881363761521155\n",
      "Epoch 3/10, Loss: 0.016972980732398647\n",
      "Epoch 4/10, Loss: 0.015540739934470865\n",
      "Epoch 5/10, Loss: 0.014967500352330746\n",
      "Epoch 6/10, Loss: 0.013883625517689412\n",
      "Epoch 7/10, Loss: 0.013033673655421983\n",
      "Epoch 8/10, Loss: 0.012284387143388871\n",
      "Epoch 9/10, Loss: 0.011404487582284116\n",
      "Epoch 10/10, Loss: 0.010619177490532879\n"
     ]
    }
   ],
   "source": [
    "num_epochs = 10\n",
    "train_losses = []\n",
    "for epoch in range(num_epochs):\n",
    "    model.train()\n",
    "    running_loss = 0.0\n",
    "    for images, (steering_labels, throttle_labels) in train_loader:\n",
    "        optimizer.zero_grad()\n",
    "        \n",
    "        # Set the data type of the input data to float\n",
    "        images = images.float()\n",
    "        steering_labels = steering_labels.float()\n",
    "        throttle_labels = throttle_labels.float()\n",
    "\n",
    "        outputs = model(images)\n",
    "        \n",
    "        # Split the outputs into steering and throttle predictions\n",
    "        steering_predictions = outputs[:, 0]\n",
    "        throttle_predictions = outputs[:, 1]\n",
    "\n",
    "        loss_steer = criterion_steer(steering_predictions, steering_labels)\n",
    "        loss_throttle = criterion_throttle(throttle_predictions, throttle_labels)\n",
    "        loss = loss_steer + loss_throttle\n",
    "        loss.backward()\n",
    "        optimizer.step()\n",
    "        running_loss += loss.item()\n",
    "    train_losses.append(running_loss / len(train_loader))\n",
    "    print(f\"Epoch {epoch+1}/{num_epochs}, Loss: {running_loss / len(train_loader)}\")\n"
   ]
  },
  {
   "cell_type": "code",
   "execution_count": 12,
   "metadata": {},
   "outputs": [
    {
     "name": "stdout",
     "output_type": "stream",
     "text": [
      "Validation Loss: 0.014046360738575459\n"
     ]
    }
   ],
   "source": [
    "model.eval()\n",
    "valid_loss = 0.0\n",
    "with torch.no_grad():\n",
    "    for images, (steering_labels, throttle_labels) in valid_loader:\n",
    "        images = images.float()\n",
    "        steering_labels = steering_labels.float()\n",
    "        throttle_labels = throttle_labels.float()\n",
    "\n",
    "        outputs = model(images)\n",
    "        loss_steer = criterion_steer(outputs[:, 0], steering_labels)\n",
    "        loss_throttle = criterion_throttle(outputs[:, 1], throttle_labels)\n",
    "        loss = loss_steer + loss_throttle\n",
    "        valid_loss += loss.item()\n",
    "\n",
    "print(f\"Validation Loss: {valid_loss / len(valid_loader)}\")\n"
   ]
  },
  {
   "cell_type": "code",
   "execution_count": 13,
   "metadata": {},
   "outputs": [],
   "source": [
    "torch.save(model, 'PTmodel.pth')"
   ]
  },
  {
   "cell_type": "code",
   "execution_count": null,
   "metadata": {},
   "outputs": [],
   "source": []
  }
 ],
 "metadata": {
  "kernelspec": {
   "display_name": "Python 3",
   "language": "python",
   "name": "python3"
  },
  "language_info": {
   "codemirror_mode": {
    "name": "ipython",
    "version": 3
   },
   "file_extension": ".py",
   "mimetype": "text/x-python",
   "name": "python",
   "nbconvert_exporter": "python",
   "pygments_lexer": "ipython3",
   "version": "3.11.4"
  },
  "orig_nbformat": 4
 },
 "nbformat": 4,
 "nbformat_minor": 2
}
